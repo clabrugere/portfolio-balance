{
 "cells": [
  {
   "cell_type": "code",
   "execution_count": 1,
   "id": "50195c39-d811-4ee9-b99a-645464ecc23a",
   "metadata": {},
   "outputs": [],
   "source": [
    "import pandas as pd\n",
    "import numpy as np\n",
    "from datetime import datetime, timedelta\n",
    "from pandas_datareader import data\n",
    "from scipy.optimize import differential_evolution, shgo, NonlinearConstraint\n",
    "import sys\n",
    "\n",
    "sys.path.append('..')\n",
    "\n",
    "#from src import data\n",
    "#from src.portfolio import Portfolio, fees_func"
   ]
  },
  {
   "cell_type": "code",
   "execution_count": 37,
   "id": "79b7639b-aefb-4688-aa21-4922a87c815b",
   "metadata": {},
   "outputs": [],
   "source": [
    "def quotes(assets, look_back, end_date=None):\n",
    "    if end_date:\n",
    "        start_date = (end_date - timedelta(days=look_back)).strftime(\"%Y-%m-%d\")\n",
    "    else:\n",
    "        start_date = (datetime.today() - timedelta(days=look_back)).strftime(\"%Y-%m-%d\")\n",
    "\n",
    "    df = data.DataReader(assets, \"yahoo\", start=start_date, end=end_date)\n",
    "    df = df.stack(level=1).reset_index(level=[0, 1], drop=False).reset_index(drop=True)\n",
    "    df = df.sort_values([\"Symbols\", \"Date\"])\n",
    "    \n",
    "    return df\n",
    "\n",
    "\n",
    "df_portfolio = pd.DataFrame({\n",
    "    \"Assets\": [\"CW8.PA\", \"PAEEM.PA\", \"RS2K.PA\", \"SMC.PA\", \"EESM.PA\"],\n",
    "    \"Weights\": [.84, .04, .06, .03, .03],\n",
    "    \"Shares\": [53, 51, 4, 1, 2],\n",
    "})\n",
    "\n",
    "assets = df_portfolio[\"Assets\"].values.ravel()\n",
    "shares = df_portfolio[\"Shares\"].values.ravel()\n",
    "target_weights = df_portfolio[\"Weights\"].values.ravel()\n",
    "\n",
    "df_prices = quotes(assets, 30)"
   ]
  },
  {
   "cell_type": "code",
   "execution_count": 50,
   "id": "4d9079af-acbc-49e9-add2-b80ef906a390",
   "metadata": {},
   "outputs": [
    {
     "data": {
      "text/plain": [
       "110    397.835602\n",
       "114    312.954987\n",
       "111     23.441000\n",
       "112    269.951294\n",
       "113    324.100006\n",
       "Name: Close, dtype: float64"
      ]
     },
     "execution_count": 50,
     "metadata": {},
     "output_type": "execute_result"
    }
   ],
   "source": [
    "last_trading_day = df_prices[\"Date\"].max()\n",
    "df_prices.loc[df_prices[\"Date\"] == last_trading_day, \"Close\"]"
   ]
  },
  {
   "cell_type": "code",
   "execution_count": 53,
   "id": "015474e0-821a-4d5a-828d-9e0eb1ce5ba2",
   "metadata": {},
   "outputs": [
    {
     "data": {
      "text/plain": [
       "array([397.83560181, 312.95498657,  23.44099998, 269.95129395,\n",
       "       324.1000061 ])"
      ]
     },
     "execution_count": 53,
     "metadata": {},
     "output_type": "execute_result"
    }
   ],
   "source": [
    "df_prices.loc[df_prices[\"Date\"] == last_trading_day, \"Close\"].values"
   ]
  },
  {
   "cell_type": "code",
   "execution_count": null,
   "id": "4cccb891-a68c-44d6-ae3f-5d7b4f9ac413",
   "metadata": {},
   "outputs": [],
   "source": []
  },
  {
   "cell_type": "code",
   "execution_count": 2,
   "id": "f029b64f-c7e5-4098-89ea-b08a0a05e0c7",
   "metadata": {},
   "outputs": [],
   "source": [
    "assets = ['CW8.PA', 'PAEEM.PA', 'RS2K.PA', 'SMC.PA', 'EESM.PA']\n",
    "\n",
    "# inputs\n",
    "target_weights = np.array([.84, .04, .06, .03, .03])\n",
    "shares = np.array([53, 51, 4, 1, 2])\n",
    "cash = 1538.95\n",
    "\n",
    "# current\n",
    "prices = data.daily_close(assets, 0).values.ravel()\n",
    "positions = prices * shares\n",
    "portfolio_value = positions.sum() + cash\n",
    "weights = positions / portfolio_value\n",
    "target_positions = portfolio_value * target_weights"
   ]
  },
  {
   "cell_type": "code",
   "execution_count": 11,
   "id": "c225135c-bf1c-44f6-8719-a40768e05735",
   "metadata": {},
   "outputs": [
    {
     "name": "stdout",
     "output_type": "stream",
     "text": [
      "           constr: [array([0.])]\n",
      " constr_violation: 0.0\n",
      "              fun: 473.15652976876277\n",
      "            maxcv: 0.0\n",
      "          message: 'Optimization terminated successfully.'\n",
      "             nfev: 3305\n",
      "              nit: 56\n",
      "          success: True\n",
      "                x: array([1.38236333, 0.43445608, 2.9511558 , 1.17720513, 0.01353664])\n",
      "Shares to buy: [1. 0. 3. 1. 0.]\n",
      "Transaction: 1521.53€\n",
      "Fees: 12.50€\n",
      "Cash leftover: 4.92€\n"
     ]
    }
   ],
   "source": [
    "portfolio = Portfolio(shares, cash, fees_func)\n",
    "shares_buy = portfolio.rebalance(prices, target_weights)\n",
    "\n",
    "transaction = shares_buy * prices\n",
    "fees = np.array([fees_func(x) for x in shares_buy * prices])\n",
    "cash_leftover = cash - (transaction.sum() + fees.sum())\n",
    "\n",
    "print(portfolio.results)\n",
    "print(f\"Shares to buy: {shares_buy}\")\n",
    "print(f\"Transaction: {transaction.sum():.2f}€\")\n",
    "print(f\"Fees: {fees.sum():.2f}€\")\n",
    "print(f\"Cash leftover: {cash_leftover:.2f}€\")"
   ]
  },
  {
   "cell_type": "code",
   "execution_count": 13,
   "id": "c30f7a11-6915-43ca-a697-5c2bd29eb206",
   "metadata": {},
   "outputs": [
    {
     "name": "stdout",
     "output_type": "stream",
     "text": [
      "New weights: [0.83163396 0.04561493 0.07302474 0.0249225  0.02412669]\n",
      "Target: [0.84 0.04 0.06 0.03 0.03]\n",
      "Old weights: [0.81623333 0.04561493 0.04172842 0.01246125 0.02412669]\n",
      "RMSE: 0.037\n"
     ]
    }
   ],
   "source": [
    "positions_new = (shares + shares_buy) * prices\n",
    "new_weights = positions_new / portfolio_value\n",
    "\n",
    "print(f\"New weights: {new_weights}\")\n",
    "print(f\"Target: {target_weights}\")\n",
    "print(f\"Old weights: {weights}\")\n",
    "print(f\"RMSE: {np.sqrt(((weights - new_weights) ** 2).sum()):.3f}\")"
   ]
  },
  {
   "cell_type": "code",
   "execution_count": 29,
   "id": "ea8b3cd3-c120-4523-a74f-0d9f03a3bf87",
   "metadata": {},
   "outputs": [
    {
     "data": {
      "text/html": [
       "<style type=\"text/css\">\n",
       "</style>\n",
       "<table id=\"T_dab3d_\">\n",
       "  <thead>\n",
       "    <tr>\n",
       "      <th class=\"blank level0\" >&nbsp;</th>\n",
       "      <th class=\"col_heading level0 col0\" >CW8.PA</th>\n",
       "      <th class=\"col_heading level0 col1\" >PAEEM.PA</th>\n",
       "      <th class=\"col_heading level0 col2\" >RS2K.PA</th>\n",
       "      <th class=\"col_heading level0 col3\" >SMC.PA</th>\n",
       "      <th class=\"col_heading level0 col4\" >EESM.PA</th>\n",
       "    </tr>\n",
       "  </thead>\n",
       "  <tbody>\n",
       "    <tr>\n",
       "      <th id=\"T_dab3d_level0_row0\" class=\"row_heading level0 row0\" >0</th>\n",
       "      <td id=\"T_dab3d_row0_col0\" class=\"data row0 col0\" >83.16%</td>\n",
       "      <td id=\"T_dab3d_row0_col1\" class=\"data row0 col1\" >4.56%</td>\n",
       "      <td id=\"T_dab3d_row0_col2\" class=\"data row0 col2\" >7.30%</td>\n",
       "      <td id=\"T_dab3d_row0_col3\" class=\"data row0 col3\" >2.49%</td>\n",
       "      <td id=\"T_dab3d_row0_col4\" class=\"data row0 col4\" >2.41%</td>\n",
       "    </tr>\n",
       "  </tbody>\n",
       "</table>\n"
      ],
      "text/plain": [
       "<pandas.io.formats.style.Styler at 0x14168dc7e80>"
      ]
     },
     "execution_count": 29,
     "metadata": {},
     "output_type": "execute_result"
    }
   ],
   "source": [
    "pd.DataFrame(data=[new_weights], columns=assets).style.format(lambda x: f\"{x:.2%}\")"
   ]
  },
  {
   "cell_type": "code",
   "execution_count": null,
   "id": "e304c64a-675e-4d10-a954-186003b61ae2",
   "metadata": {},
   "outputs": [],
   "source": []
  },
  {
   "cell_type": "code",
   "execution_count": 37,
   "id": "57317491-9814-4b51-9295-9c7153c0791a",
   "metadata": {},
   "outputs": [],
   "source": []
  },
  {
   "cell_type": "code",
   "execution_count": null,
   "id": "3676dc70-e506-4fe2-b587-4214b4c1f846",
   "metadata": {},
   "outputs": [],
   "source": []
  }
 ],
 "metadata": {
  "kernelspec": {
   "display_name": "Python 3 (ipykernel)",
   "language": "python",
   "name": "python3"
  },
  "language_info": {
   "codemirror_mode": {
    "name": "ipython",
    "version": 3
   },
   "file_extension": ".py",
   "mimetype": "text/x-python",
   "name": "python",
   "nbconvert_exporter": "python",
   "pygments_lexer": "ipython3",
   "version": "3.9.5"
  }
 },
 "nbformat": 4,
 "nbformat_minor": 5
}
